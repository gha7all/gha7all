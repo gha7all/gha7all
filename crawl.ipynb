{
 "cells": [
  {
   "cell_type": "code",
   "execution_count": 2,
   "metadata": {},
   "outputs": [
    {
     "name": "stdout",
     "output_type": "stream",
     "text": [
      "True 0\n",
      "Found the URL: /buy/detail/3124398\n",
      "Found the URL: /buy/detail/3124393\n",
      "Found the URL: /buy/detail/3108007\n",
      "Found the URL: /buy/detail/3111912\n",
      "Found the URL: /buy/detail/3116599\n",
      "Found the URL: /buy/detail/3116642\n",
      "Found the URL: /buy/detail/3116633\n",
      "Found the URL: /buy/detail/3100262\n",
      "Found the URL: /buy/detail/3109339\n",
      "Found the URL: /buy/detail/3108054\n",
      "Found the URL: /buy/detail/3125456\n",
      "Found the URL: /buy/detail/3125458\n",
      "Found the URL: /buy/detail/3124988\n",
      "Found the URL: /buy/detail/3124435\n",
      "Found the URL: /buy/detail/3124307\n",
      "Found the URL: /buy/detail/3124284\n",
      "Found the URL: /buy/detail/3124738\n",
      "Found the URL: /buy/detail/3125310\n",
      "Found the URL: /buy/detail/3125338\n",
      "Found the URL: /buy/detail/3101334\n",
      "True 1\n",
      "Found the URL: /buy/detail/3109653\n",
      "Found the URL: /buy/detail/3116454\n",
      "Found the URL: /buy/detail/3116762\n",
      "Found the URL: /buy/detail/3097387\n",
      "Found the URL: /buy/detail/3053581\n",
      "Found the URL: /buy/detail/3040721\n",
      "Found the URL: /buy/detail/3098400\n",
      "Found the URL: /buy/detail/3104038\n",
      "Found the URL: /buy/detail/3099703\n",
      "Found the URL: /buy/detail/3083155\n",
      "Found the URL: /buy/detail/3035605\n",
      "Found the URL: /buy/detail/3105553\n",
      "Found the URL: /buy/detail/3108506\n",
      "Found the URL: /buy/detail/3035501\n",
      "Found the URL: /buy/detail/3122211\n",
      "Found the URL: /buy/detail/3084444\n",
      "Found the URL: /buy/detail/3117296\n",
      "Found the URL: /buy/detail/3117302\n",
      "Found the URL: /buy/detail/3118724\n",
      "Found the URL: /buy/detail/3118936\n",
      "True 2\n",
      "Found the URL: /buy/detail/3120791\n",
      "Found the URL: /buy/detail/3121212\n",
      "Found the URL: /buy/detail/3121385\n",
      "Found the URL: /buy/detail/3121391\n",
      "Found the URL: /buy/detail/3121654\n",
      "Found the URL: /buy/detail/3122181\n",
      "Found the URL: /buy/detail/3122268\n",
      "Found the URL: /buy/detail/3122246\n",
      "Found the URL: /buy/detail/3122001\n",
      "Found the URL: /buy/detail/3122282\n",
      "Found the URL: /buy/detail/3122315\n",
      "Found the URL: /buy/detail/3122726\n",
      "Found the URL: /buy/detail/3122809\n",
      "Found the URL: /buy/detail/3122813\n",
      "Found the URL: /buy/detail/3123053\n",
      "Found the URL: /buy/detail/3123114\n",
      "Found the URL: /buy/detail/3123221\n",
      "Found the URL: /buy/detail/3112032\n",
      "Found the URL: /buy/detail/3123256\n",
      "Found the URL: /buy/detail/3123253\n",
      "True 3\n",
      "Found the URL: /buy/detail/3125287\n",
      "Found the URL: /buy/detail/3125354\n",
      "Found the URL: /buy/detail/3125358\n",
      "Found the URL: /buy/detail/3123079\n",
      "Found the URL: /buy/detail/3123323\n",
      "Found the URL: /buy/detail/3125411\n",
      "Found the URL: /buy/detail/3124168\n",
      "Found the URL: /buy/detail/3124983\n",
      "Found the URL: /buy/detail/3124204\n",
      "Found the URL: /buy/detail/3124650\n",
      "Found the URL: /buy/detail/3120998\n",
      "Found the URL: /buy/detail/3124371\n",
      "Found the URL: /buy/detail/3124427\n",
      "Found the URL: /buy/detail/3123225\n",
      "Found the URL: /buy/detail/3123235\n",
      "Found the URL: /buy/detail/3115296\n",
      "Found the URL: /buy/detail/3125362\n",
      "Found the URL: /buy/detail/3125380\n",
      "Found the URL: /buy/detail/3114796\n",
      "Found the URL: /buy/detail/3113798\n",
      "['/buy/detail/3124398', '/buy/detail/3124393', '/buy/detail/3108007', '/buy/detail/3111912', '/buy/detail/3116599', '/buy/detail/3116642', '/buy/detail/3116633', '/buy/detail/3100262', '/buy/detail/3109339', '/buy/detail/3108054', '/buy/detail/3125456', '/buy/detail/3125458', '/buy/detail/3124988', '/buy/detail/3124435', '/buy/detail/3124307', '/buy/detail/3124284', '/buy/detail/3124738', '/buy/detail/3125310', '/buy/detail/3125338', '/buy/detail/3101334', '/buy/detail/3109653', '/buy/detail/3116454', '/buy/detail/3116762', '/buy/detail/3097387', '/buy/detail/3053581', '/buy/detail/3040721', '/buy/detail/3098400', '/buy/detail/3104038', '/buy/detail/3099703', '/buy/detail/3083155', '/buy/detail/3035605', '/buy/detail/3105553', '/buy/detail/3108506', '/buy/detail/3035501', '/buy/detail/3122211', '/buy/detail/3084444', '/buy/detail/3117296', '/buy/detail/3117302', '/buy/detail/3118724', '/buy/detail/3118936', '/buy/detail/3120791', '/buy/detail/3121212', '/buy/detail/3121385', '/buy/detail/3121391', '/buy/detail/3121654', '/buy/detail/3122181', '/buy/detail/3122268', '/buy/detail/3122246', '/buy/detail/3122001', '/buy/detail/3122282', '/buy/detail/3122315', '/buy/detail/3122726', '/buy/detail/3122809', '/buy/detail/3122813', '/buy/detail/3123053', '/buy/detail/3123114', '/buy/detail/3123221', '/buy/detail/3112032', '/buy/detail/3123256', '/buy/detail/3123253', '/buy/detail/3125287', '/buy/detail/3125354', '/buy/detail/3125358', '/buy/detail/3123079', '/buy/detail/3123323', '/buy/detail/3125411', '/buy/detail/3124168', '/buy/detail/3124983', '/buy/detail/3124204', '/buy/detail/3124650', '/buy/detail/3120998', '/buy/detail/3124371', '/buy/detail/3124427', '/buy/detail/3123225', '/buy/detail/3123235', '/buy/detail/3115296', '/buy/detail/3125362', '/buy/detail/3125380', '/buy/detail/3114796', '/buy/detail/3113798']\n"
     ]
    }
   ],
   "source": [
    "import requests\n",
    "from bs4 import BeautifulSoup\n",
    "from time import sleep\n",
    "import re\n",
    "\n",
    "link_home=[]\n",
    "break_=0\n",
    "number_of_pages=4\n",
    "for i in range(number_of_pages):\n",
    "        sleep(1)\n",
    "        if break_>5:break\n",
    "        html=requests.get(\"https://kilid.com/buy/tehran-region5?listingTypeId=1&page=%d\"%i)\n",
    "        if html.status_code == 200:\n",
    "            soup=BeautifulSoup(html.content,'html.parser')\n",
    "            print(True , i)\n",
    "        \n",
    "            \n",
    "            for a in soup.find_all('a',class_=\"kilid-listing-card flex-col al-start ng-star-inserted\", href=True):\n",
    "                sleep(0.2)\n",
    "                if a[\"href\"] in link_home:\n",
    "                    print(\"duplicate##\")\n",
    "                    break_ +=1\n",
    "                    continue\n",
    "                link_home.append(a[\"href\"])\n",
    "                print(\"Found the URL:\", a['href'])\n",
    "                \n",
    "                \n",
    "   \n",
    "print(link_home)\n",
    "   "
   ]
  },
  {
   "cell_type": "code",
   "execution_count": 3,
   "metadata": {},
   "outputs": [
    {
     "data": {
      "text/plain": [
       "'/buy/detail/3124398'"
      ]
     },
     "execution_count": 3,
     "metadata": {},
     "output_type": "execute_result"
    }
   ],
   "source": [
    "link_home[0]"
   ]
  },
  {
   "cell_type": "code",
   "execution_count": 28,
   "metadata": {},
   "outputs": [],
   "source": [
    "merge_dic=lambda x,y:x|y\n",
    "\n",
    "def replace_chars(text):\n",
    "   for ch in ['/','`','*','_','{','}','[',']','(',')','>','#','+','-','!','$','\\'',\"//\"]:\n",
    "        if ch in text:\n",
    "            text = text.replace(ch,\" \")\n",
    "   return text\n",
    "\n",
    "def try_css_selector(soup,css):\n",
    "    \n",
    "    try:\n",
    "        return replace_chars(soup.select_one(css).text.strip())\n",
    "        \n",
    "    except AttributeError:\n",
    "        return None\n",
    "def extract_location(soup,css):\n",
    "   location=dict()\n",
    "   try:\n",
    "      \n",
    "      complit_loc = try_css_selector(soup,\".single-data__location span\").split(\"،\")\n",
    "     \n",
    "      # return complit_loc\n",
    "      # print(len(complit_loc))\n",
    "      region=[]\n",
    "      for i in complit_loc[1].strip():\n",
    "         if i.isdigit():\n",
    "            region.append(i)\n",
    "      location[\"city\"]=complit_loc[0].strip()\n",
    "      location[\"region\"]=\"\".join(region)\n",
    "      location[\"address\"]=complit_loc[2].strip()\n",
    "      \n",
    "      return location\n",
    "\n",
    "   except :\n",
    "       return None \n",
    "\n",
    "def extract_featurs(soup,css):\n",
    "   features=dict()\n",
    "   features2=dict()\n",
    "   name=[]\n",
    "   nums=[]\n",
    "   try:\n",
    "      for i in try_css_selector(soup,\".single-data__container--attributes\").split():\n",
    "         if i.isalpha():\n",
    "            name.append(i)\n",
    "         else:nums.append(i)\n",
    "\n",
    "      features={k:v for k,v in zip(name,nums)}\n",
    "\n",
    "      features2[\"parking\"] = features.get(\"پارکینگ\",None)    \n",
    "      features2[\"Meterage\"] = features.get(\"متر\",None)    \n",
    "      features2[\"bedroom \"] = features.get(\"خوابه\",None)    \n",
    "      features2[\"age_year\"] = features.get(\"ساله\",None)    \n",
    "         \n",
    "   except:\n",
    "      features2[\"parking\"] = None \n",
    "      features2[\"Meterage\"] = None\n",
    "      features2[\"bedroom \"] = None    \n",
    "      features2[\"age_year\"] = None    \n",
    "   \n",
    "   return features2\n",
    "\n",
    "\n",
    "def extract_facilities(soup, css):\n",
    "   try:\n",
    "      string_=str(soup.select_one(css))\n",
    "      \n",
    "      facilities=[]\n",
    "      pattern =r'.*>([\\u0600-\\u06FF]+)<.*'\n",
    "      while True:\n",
    "          try:\n",
    "              y=re.search(pattern,string_)\n",
    "              if y.groups():\n",
    "                  facilities.append(y.groups()[0])\n",
    "                  string_=string_.replace(facilities[-1],\"\")          \n",
    "              else:break\n",
    "              \n",
    "          except  : break\n",
    "          \n",
    "\n",
    "      return \" \".join(facilities)\n",
    "   \n",
    "   except: return None\n",
    "   "
   ]
  },
  {
   "cell_type": "code",
   "execution_count": null,
   "metadata": {},
   "outputs": [],
   "source": []
  },
  {
   "cell_type": "code",
   "execution_count": 29,
   "metadata": {},
   "outputs": [
    {
     "name": "stdout",
     "output_type": "stream",
     "text": [
      "True 0\n",
      "بالکن انباری آسانسور\n"
     ]
    }
   ],
   "source": [
    "\n",
    "\n",
    "for href in range(1):#len(link_home)):\n",
    "   # html = requests.get(r\"https://kilid.com%s\"%link_home[href])\n",
    "   # html = requests.get(r\"https://kilid.com%s\"%link_home[2])\n",
    "   html = requests.get(r\"https://kilid.com/buy/detail/3124988\")\n",
    "   \n",
    "   if html.status_code == 200:\n",
    "      soup = BeautifulSoup(html.content , \"html5lib\")\n",
    "      print(True,href)\n",
    "   \n",
    "      homes=dict() \n",
    "      homes[\"title\"]= try_css_selector(soup,\".single-data__info\")\n",
    "      \n",
    "         \n",
    "      homes[\"total_price\"]=replace_chars(try_css_selector(soup,\".single-data__container.ng-star-inserted\").split()[2])\n",
    "      homes=merge_dic(homes,extract_location(soup,\".single-data__location span\"))\n",
    "      homes=merge_dic(homes,extract_featurs(soup,\".single-data__location span\"))\n",
    "      homes[\"facilities\"] = extract_facilities(soup,\".ng-trigger-slideDown\")\n",
    "      # homes=merge_dic(homes,extract_facilities(soup,\".ng-trigger-slideDown\"))\n",
    "      print(homes[\"facilities\"])\n",
    "      # .ng-trigger-slideDown\n",
    "      \n",
    "# for k,v in homes.items():\n",
    "#    print(k,\" \",v)\n"
   ]
  },
  {
   "cell_type": "code",
   "execution_count": 168,
   "metadata": {},
   "outputs": [
    {
     "ename": "AttributeError",
     "evalue": "'NoneType' object has no attribute 'group'",
     "output_type": "error",
     "traceback": [
      "\u001b[1;31m---------------------------------------------------------------------------\u001b[0m",
      "\u001b[1;31mAttributeError\u001b[0m                            Traceback (most recent call last)",
      "Cell \u001b[1;32mIn[168], line 3\u001b[0m\n\u001b[0;32m      1\u001b[0m x\u001b[39m=\u001b[39m\u001b[39mstr\u001b[39m(soup\u001b[39m.\u001b[39mselect_one(\u001b[39m\"\u001b[39m\u001b[39m.ng-trigger-slideDown\u001b[39m\u001b[39m\"\u001b[39m))\n\u001b[0;32m      2\u001b[0m y\u001b[39m=\u001b[39mre\u001b[39m.\u001b[39msearch(\u001b[39mr\u001b[39m\u001b[39m'\u001b[39m\u001b[39m.*>([\u001b[39m\u001b[39m\\\u001b[39m\u001b[39mu0600-\u001b[39m\u001b[39m\\\u001b[39m\u001b[39mu06FF]+)<.*>([\u001b[39m\u001b[39m\\\u001b[39m\u001b[39mu0600-\u001b[39m\u001b[39m\\\u001b[39m\u001b[39mu06FF]+)<.*>([\u001b[39m\u001b[39m\\\u001b[39m\u001b[39mu0600-\u001b[39m\u001b[39m\\\u001b[39m\u001b[39mu06FF]+)<.*\u001b[39m\u001b[39m'\u001b[39m,\u001b[39mstr\u001b[39m(x))\n\u001b[1;32m----> 3\u001b[0m y\u001b[39m.\u001b[39;49mgroup()\n",
      "\u001b[1;31mAttributeError\u001b[0m: 'NoneType' object has no attribute 'group'"
     ]
    }
   ],
   "source": [
    "x=str(soup.select_one(\".ng-trigger-slideDown\"))\n",
    "y=re.search(r'.*>([\\u0600-\\u06FF]+)<.*>([\\u0600-\\u06FF]+)<.*>([\\u0600-\\u06FF]+)<.*',str(x))\n",
    "y.group()"
   ]
  },
  {
   "cell_type": "code",
   "execution_count": 193,
   "metadata": {},
   "outputs": [
    {
     "data": {
      "text/plain": [
       "'<div _ngcontent-sc146=\"\" class=\"single-data__container single-data__container--attributes ng-tns-c146-4\"><div _ngcontent-sc146=\"\" class=\"single-data__attributes ng-tns-c146-4 ng-star-inserted\"> 38 متر </div><!----><div _ngcontent-sc146=\"\" class=\"single-data__attributes ng-tns-c146-4 ng-star-inserted\"> 1 خوابه </div><!----><div _ngcontent-sc146=\"\" class=\"single-data__attributes ng-tns-c146-4 ng-star-inserted\"> 14 ساله </div><!----><div _ngcontent-sc146=\"\" class=\"single-data__attributes ng-tns-c146-4 ng-star-inserted\"> 1 پارکینگ </div><!----></div>'"
      ]
     },
     "execution_count": 193,
     "metadata": {},
     "output_type": "execute_result"
    }
   ],
   "source": [
    "str(soup.select_one(\".single-data__container--attributes\"))"
   ]
  },
  {
   "cell_type": "code",
   "execution_count": 199,
   "metadata": {},
   "outputs": [
    {
     "data": {
      "text/plain": [
       "['آسانسور']"
      ]
     },
     "execution_count": 199,
     "metadata": {},
     "output_type": "execute_result"
    }
   ],
   "source": [
    "pattern =r'.*>([\\u0600-\\u06FF]+)<.*'\n",
    "facilities=[]\n",
    "string_=str(soup.select_one(\".ng-trigger-slideDown\"))\n",
    "while True:\n",
    "       try:\n",
    "            y=re.search(pattern,string_)\n",
    "            if y.groups():\n",
    "                facilities.append(y.groups()[0])\n",
    "                string_=string_.replace(a[-1],\"\")\n",
    "       except:break\n",
    "       \n",
    "facilities"
   ]
  },
  {
   "cell_type": "code",
   "execution_count": null,
   "metadata": {},
   "outputs": [],
   "source": [
    "y=re.search(r'.*>([\\u0600-\\u06FF]+)<.*',string_)\n",
    "            if y.groups():\n",
    "                facilities.append(y.groups()[0])\n",
    "                string_=string_.replace(a[-1],\"\")"
   ]
  },
  {
   "cell_type": "code",
   "execution_count": 185,
   "metadata": {},
   "outputs": [],
   "source": [
    "def extract_facilities(soup, css):\n",
    "\n",
    "    string_=str(soup.select_one(css))\n",
    "\n",
    "    facilities=[]\n",
    "    pattern =r'.*>([\\u0600-\\u06FF]+)<.*'\n",
    "    while True:\n",
    "        try:\n",
    "            y=re.search(pattern,string_)\n",
    "            if y.groups():\n",
    "                facilities.append(y.groups()[0])\n",
    "                string_=string_.replace(a[-1],\"\")          \n",
    "\n",
    "\n",
    "        except: break\n",
    "\n",
    "    return facilities"
   ]
  },
  {
   "cell_type": "code",
   "execution_count": 159,
   "metadata": {},
   "outputs": [
    {
     "data": {
      "text/plain": [
       "'xx'"
      ]
     },
     "execution_count": 159,
     "metadata": {},
     "output_type": "execute_result"
    }
   ],
   "source": [
    "\"xxss\".replace(\"s\",\"\")"
   ]
  },
  {
   "cell_type": "code",
   "execution_count": 77,
   "metadata": {},
   "outputs": [
    {
     "data": {
      "text/plain": [
       "{'city': 'بلوار فردوس غربی', 'region': '5', 'address': 'تهران'}"
      ]
     },
     "execution_count": 77,
     "metadata": {},
     "output_type": "execute_result"
    }
   ],
   "source": [
    "p=r\"[\\u0600-\\u06FF]\"\n",
    "loc(soup,\".single-data__location span\")"
   ]
  },
  {
   "cell_type": "code",
   "execution_count": 68,
   "metadata": {},
   "outputs": [
    {
     "data": {
      "text/plain": [
       "['تهران ، منطقه 5 ، بلوار فردوس غربی']"
      ]
     },
     "execution_count": 68,
     "metadata": {},
     "output_type": "execute_result"
    }
   ],
   "source": [
    "try_css_selector(soup,\".single-data__location span\").split(\",\")"
   ]
  },
  {
   "cell_type": "code",
   "execution_count": 48,
   "metadata": {},
   "outputs": [
    {
     "data": {
      "text/plain": [
       "['تهران ، منطقه 5 ، بلوار فردوس غربی']"
      ]
     },
     "execution_count": 48,
     "metadata": {},
     "output_type": "execute_result"
    }
   ],
   "source": [
    "try_css_selector(soup,\".single-data__location span\").split(\",\")"
   ]
  },
  {
   "cell_type": "code",
   "execution_count": 49,
   "metadata": {},
   "outputs": [
    {
     "data": {
      "text/plain": [
       "'7.6'"
      ]
     },
     "execution_count": 49,
     "metadata": {},
     "output_type": "execute_result"
    }
   ],
   "source": [
    "\"7.6 میلیارد تومان.\".split()[0]"
   ]
  },
  {
   "cell_type": "code",
   "execution_count": 55,
   "metadata": {},
   "outputs": [
    {
     "data": {
      "text/plain": [
       "{'title': 'فردوس غرب  86متر  2خواب  مالک شدیدا فروشنده', 'total_price': None}"
      ]
     },
     "execution_count": 55,
     "metadata": {},
     "output_type": "execute_result"
    }
   ],
   "source": [
    "# import psycopg2\n",
    "\n",
    "# conn = psycopg2.connect(database=\"postgres\",\n",
    "#                         host=\"localhost\",\n",
    "#                         user=\"postgres\",\n",
    "#                         password=\"1234\",\n",
    "#                         port=\"1234\")\n",
    "\n",
    "# cursor = conn.cursor()\n",
    "# https://www.dataquest.io/blog/tutorial-connect-install-and-query-postgresql-in-python/"
   ]
  }
 ],
 "metadata": {
  "kernelspec": {
   "display_name": "Python 3",
   "language": "python",
   "name": "python3"
  },
  "language_info": {
   "codemirror_mode": {
    "name": "ipython",
    "version": 3
   },
   "file_extension": ".py",
   "mimetype": "text/x-python",
   "name": "python",
   "nbconvert_exporter": "python",
   "pygments_lexer": "ipython3",
   "version": "3.11.1"
  },
  "orig_nbformat": 4
 },
 "nbformat": 4,
 "nbformat_minor": 2
}
